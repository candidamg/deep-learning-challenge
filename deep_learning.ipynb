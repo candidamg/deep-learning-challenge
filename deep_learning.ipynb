{
  "cells": [
    {
      "cell_type": "markdown",
      "metadata": {
        "id": "gJR3NDLX9W3S"
      },
      "source": [
        "## Preprocessing"
      ]
    },
    {
      "cell_type": "code",
      "execution_count": 20,
      "metadata": {
        "colab": {
          "base_uri": "https://localhost:8080/",
          "height": 496
        },
        "id": "Sth5KzUe9W3W",
        "outputId": "89d0decb-4e0d-48fe-8fa9-51adca5f4b71"
      },
      "outputs": [
        {
          "data": {
            "text/html": [
              "<div>\n",
              "<style scoped>\n",
              "    .dataframe tbody tr th:only-of-type {\n",
              "        vertical-align: middle;\n",
              "    }\n",
              "\n",
              "    .dataframe tbody tr th {\n",
              "        vertical-align: top;\n",
              "    }\n",
              "\n",
              "    .dataframe thead th {\n",
              "        text-align: right;\n",
              "    }\n",
              "</style>\n",
              "<table border=\"1\" class=\"dataframe\">\n",
              "  <thead>\n",
              "    <tr style=\"text-align: right;\">\n",
              "      <th></th>\n",
              "      <th>EIN</th>\n",
              "      <th>NAME</th>\n",
              "      <th>APPLICATION_TYPE</th>\n",
              "      <th>AFFILIATION</th>\n",
              "      <th>CLASSIFICATION</th>\n",
              "      <th>USE_CASE</th>\n",
              "      <th>ORGANIZATION</th>\n",
              "      <th>STATUS</th>\n",
              "      <th>INCOME_AMT</th>\n",
              "      <th>SPECIAL_CONSIDERATIONS</th>\n",
              "      <th>ASK_AMT</th>\n",
              "      <th>IS_SUCCESSFUL</th>\n",
              "    </tr>\n",
              "  </thead>\n",
              "  <tbody>\n",
              "    <tr>\n",
              "      <th>0</th>\n",
              "      <td>10520599</td>\n",
              "      <td>BLUE KNIGHTS MOTORCYCLE CLUB</td>\n",
              "      <td>T10</td>\n",
              "      <td>Independent</td>\n",
              "      <td>C1000</td>\n",
              "      <td>ProductDev</td>\n",
              "      <td>Association</td>\n",
              "      <td>1</td>\n",
              "      <td>0</td>\n",
              "      <td>N</td>\n",
              "      <td>5000</td>\n",
              "      <td>1</td>\n",
              "    </tr>\n",
              "    <tr>\n",
              "      <th>1</th>\n",
              "      <td>10531628</td>\n",
              "      <td>AMERICAN CHESAPEAKE CLUB CHARITABLE TR</td>\n",
              "      <td>T3</td>\n",
              "      <td>Independent</td>\n",
              "      <td>C2000</td>\n",
              "      <td>Preservation</td>\n",
              "      <td>Co-operative</td>\n",
              "      <td>1</td>\n",
              "      <td>1-9999</td>\n",
              "      <td>N</td>\n",
              "      <td>108590</td>\n",
              "      <td>1</td>\n",
              "    </tr>\n",
              "    <tr>\n",
              "      <th>2</th>\n",
              "      <td>10547893</td>\n",
              "      <td>ST CLOUD PROFESSIONAL FIREFIGHTERS</td>\n",
              "      <td>T5</td>\n",
              "      <td>CompanySponsored</td>\n",
              "      <td>C3000</td>\n",
              "      <td>ProductDev</td>\n",
              "      <td>Association</td>\n",
              "      <td>1</td>\n",
              "      <td>0</td>\n",
              "      <td>N</td>\n",
              "      <td>5000</td>\n",
              "      <td>0</td>\n",
              "    </tr>\n",
              "    <tr>\n",
              "      <th>3</th>\n",
              "      <td>10553066</td>\n",
              "      <td>SOUTHSIDE ATHLETIC ASSOCIATION</td>\n",
              "      <td>T3</td>\n",
              "      <td>CompanySponsored</td>\n",
              "      <td>C2000</td>\n",
              "      <td>Preservation</td>\n",
              "      <td>Trust</td>\n",
              "      <td>1</td>\n",
              "      <td>10000-24999</td>\n",
              "      <td>N</td>\n",
              "      <td>6692</td>\n",
              "      <td>1</td>\n",
              "    </tr>\n",
              "    <tr>\n",
              "      <th>4</th>\n",
              "      <td>10556103</td>\n",
              "      <td>GENETIC RESEARCH INSTITUTE OF THE DESERT</td>\n",
              "      <td>T3</td>\n",
              "      <td>Independent</td>\n",
              "      <td>C1000</td>\n",
              "      <td>Heathcare</td>\n",
              "      <td>Trust</td>\n",
              "      <td>1</td>\n",
              "      <td>100000-499999</td>\n",
              "      <td>N</td>\n",
              "      <td>142590</td>\n",
              "      <td>1</td>\n",
              "    </tr>\n",
              "  </tbody>\n",
              "</table>\n",
              "</div>"
            ],
            "text/plain": [
              "        EIN                                      NAME APPLICATION_TYPE  \\\n",
              "0  10520599              BLUE KNIGHTS MOTORCYCLE CLUB              T10   \n",
              "1  10531628    AMERICAN CHESAPEAKE CLUB CHARITABLE TR               T3   \n",
              "2  10547893        ST CLOUD PROFESSIONAL FIREFIGHTERS               T5   \n",
              "3  10553066            SOUTHSIDE ATHLETIC ASSOCIATION               T3   \n",
              "4  10556103  GENETIC RESEARCH INSTITUTE OF THE DESERT               T3   \n",
              "\n",
              "        AFFILIATION CLASSIFICATION      USE_CASE  ORGANIZATION  STATUS  \\\n",
              "0       Independent          C1000    ProductDev   Association       1   \n",
              "1       Independent          C2000  Preservation  Co-operative       1   \n",
              "2  CompanySponsored          C3000    ProductDev   Association       1   \n",
              "3  CompanySponsored          C2000  Preservation         Trust       1   \n",
              "4       Independent          C1000     Heathcare         Trust       1   \n",
              "\n",
              "      INCOME_AMT SPECIAL_CONSIDERATIONS  ASK_AMT  IS_SUCCESSFUL  \n",
              "0              0                      N     5000              1  \n",
              "1         1-9999                      N   108590              1  \n",
              "2              0                      N     5000              0  \n",
              "3    10000-24999                      N     6692              1  \n",
              "4  100000-499999                      N   142590              1  "
            ]
          },
          "execution_count": 20,
          "metadata": {},
          "output_type": "execute_result"
        }
      ],
      "source": [
        "# Import our dependencies\n",
        "from sklearn.model_selection import train_test_split\n",
        "from sklearn.preprocessing import StandardScaler\n",
        "import pandas as pd\n",
        "import tensorflow as tf\n",
        "\n",
        "#  Import and read the charity_data.csv.\n",
        "import pandas as pd \n",
        "application_df = pd.read_csv(\"https://static.bc-edx.com/data/dl-1-2/m21/lms/starter/charity_data.csv\")\n",
        "application_df.head()"
      ]
    },
    {
      "cell_type": "code",
      "execution_count": 21,
      "metadata": {
        "id": "eCXq8A6H9W3Z"
      },
      "outputs": [],
      "source": [
        "# Drop the non-beneficial ID columns, 'EIN' and 'NAME'.\n",
        "cleaned_df= application_df.drop(columns= ['EIN', 'NAME'])"
      ]
    },
    {
      "cell_type": "code",
      "execution_count": 22,
      "metadata": {
        "colab": {
          "base_uri": "https://localhost:8080/",
          "height": 207
        },
        "id": "gesa2dRbBU9j",
        "outputId": "936f1491-aeff-4d68-cf68-03918a603bc8"
      },
      "outputs": [
        {
          "data": {
            "text/html": [
              "<div>\n",
              "<style scoped>\n",
              "    .dataframe tbody tr th:only-of-type {\n",
              "        vertical-align: middle;\n",
              "    }\n",
              "\n",
              "    .dataframe tbody tr th {\n",
              "        vertical-align: top;\n",
              "    }\n",
              "\n",
              "    .dataframe thead th {\n",
              "        text-align: right;\n",
              "    }\n",
              "</style>\n",
              "<table border=\"1\" class=\"dataframe\">\n",
              "  <thead>\n",
              "    <tr style=\"text-align: right;\">\n",
              "      <th></th>\n",
              "      <th>APPLICATION_TYPE</th>\n",
              "      <th>AFFILIATION</th>\n",
              "      <th>CLASSIFICATION</th>\n",
              "      <th>USE_CASE</th>\n",
              "      <th>ORGANIZATION</th>\n",
              "      <th>STATUS</th>\n",
              "      <th>INCOME_AMT</th>\n",
              "      <th>SPECIAL_CONSIDERATIONS</th>\n",
              "      <th>ASK_AMT</th>\n",
              "      <th>IS_SUCCESSFUL</th>\n",
              "    </tr>\n",
              "  </thead>\n",
              "  <tbody>\n",
              "    <tr>\n",
              "      <th>0</th>\n",
              "      <td>T10</td>\n",
              "      <td>Independent</td>\n",
              "      <td>C1000</td>\n",
              "      <td>ProductDev</td>\n",
              "      <td>Association</td>\n",
              "      <td>1</td>\n",
              "      <td>0</td>\n",
              "      <td>N</td>\n",
              "      <td>5000</td>\n",
              "      <td>1</td>\n",
              "    </tr>\n",
              "    <tr>\n",
              "      <th>1</th>\n",
              "      <td>T3</td>\n",
              "      <td>Independent</td>\n",
              "      <td>C2000</td>\n",
              "      <td>Preservation</td>\n",
              "      <td>Co-operative</td>\n",
              "      <td>1</td>\n",
              "      <td>1-9999</td>\n",
              "      <td>N</td>\n",
              "      <td>108590</td>\n",
              "      <td>1</td>\n",
              "    </tr>\n",
              "    <tr>\n",
              "      <th>2</th>\n",
              "      <td>T5</td>\n",
              "      <td>CompanySponsored</td>\n",
              "      <td>C3000</td>\n",
              "      <td>ProductDev</td>\n",
              "      <td>Association</td>\n",
              "      <td>1</td>\n",
              "      <td>0</td>\n",
              "      <td>N</td>\n",
              "      <td>5000</td>\n",
              "      <td>0</td>\n",
              "    </tr>\n",
              "  </tbody>\n",
              "</table>\n",
              "</div>"
            ],
            "text/plain": [
              "  APPLICATION_TYPE       AFFILIATION CLASSIFICATION      USE_CASE  \\\n",
              "0              T10       Independent          C1000    ProductDev   \n",
              "1               T3       Independent          C2000  Preservation   \n",
              "2               T5  CompanySponsored          C3000    ProductDev   \n",
              "\n",
              "   ORGANIZATION  STATUS INCOME_AMT SPECIAL_CONSIDERATIONS  ASK_AMT  \\\n",
              "0   Association       1          0                      N     5000   \n",
              "1  Co-operative       1     1-9999                      N   108590   \n",
              "2   Association       1          0                      N     5000   \n",
              "\n",
              "   IS_SUCCESSFUL  \n",
              "0              1  \n",
              "1              1  \n",
              "2              0  "
            ]
          },
          "execution_count": 22,
          "metadata": {},
          "output_type": "execute_result"
        }
      ],
      "source": [
        "# display first 3 rows\n",
        "cleaned_df.head(3)"
      ]
    },
    {
      "cell_type": "code",
      "execution_count": 23,
      "metadata": {
        "colab": {
          "base_uri": "https://localhost:8080/"
        },
        "id": "m9SXb4TYBqy3",
        "outputId": "d7bb1fb0-b74f-4f90-aa35-9c0050a77774"
      },
      "outputs": [
        {
          "name": "stdout",
          "output_type": "stream",
          "text": [
            "APPLICATION_TYPE            17\n",
            "AFFILIATION                  6\n",
            "CLASSIFICATION              71\n",
            "USE_CASE                     5\n",
            "ORGANIZATION                 4\n",
            "STATUS                       2\n",
            "INCOME_AMT                   9\n",
            "SPECIAL_CONSIDERATIONS       2\n",
            "ASK_AMT                   8747\n",
            "IS_SUCCESSFUL                2\n",
            "dtype: int64\n"
          ]
        }
      ],
      "source": [
        "# Determine the number of unique values in each column.\n",
        "columns_unique_values = cleaned_df.nunique(axis=0)\n",
        "print(columns_unique_values)"
      ]
    },
    {
      "cell_type": "code",
      "execution_count": 24,
      "metadata": {
        "colab": {
          "base_uri": "https://localhost:8080/"
        },
        "id": "uxQjwYngF63m",
        "outputId": "99a6229a-d511-4893-e7d5-cdae4d3a12cb"
      },
      "outputs": [
        {
          "data": {
            "text/plain": [
              "T3     27037\n",
              "T4      1542\n",
              "T6      1216\n",
              "T5      1173\n",
              "T19     1065\n",
              "T8       737\n",
              "T7       725\n",
              "T10      528\n",
              "T9       156\n",
              "T13       66\n",
              "T12       27\n",
              "T2        16\n",
              "T14        3\n",
              "T25        3\n",
              "T29        2\n",
              "T15        2\n",
              "T17        1\n",
              "Name: APPLICATION_TYPE, dtype: int64"
            ]
          },
          "execution_count": 24,
          "metadata": {},
          "output_type": "execute_result"
        }
      ],
      "source": [
        "# Look at APPLICATION_TYPE value counts for binning\n",
        "application_type_value_count = cleaned_df.APPLICATION_TYPE.value_counts()\n",
        "application_type_value_count"
      ]
    },
    {
      "cell_type": "code",
      "execution_count": 25,
      "metadata": {
        "colab": {
          "base_uri": "https://localhost:8080/"
        },
        "id": "yD1ZePtPHS_m",
        "outputId": "dfb18f96-228e-492b-aa18-1a809509ca2f"
      },
      "outputs": [
        {
          "data": {
            "text/plain": [
              "T3       27037\n",
              "T4        1542\n",
              "T6        1216\n",
              "T5        1173\n",
              "T19       1065\n",
              "T8         737\n",
              "T7         725\n",
              "T10        528\n",
              "Other      276\n",
              "Name: APPLICATION_TYPE, dtype: int64"
            ]
          },
          "execution_count": 25,
          "metadata": {},
          "output_type": "execute_result"
        }
      ],
      "source": [
        "# Choose a cutoff value and create a list of application types to be replaced\n",
        "# use the variable name `application_types_to_replace`\n",
        "cutoff = application_type_value_count['T10']\n",
        "application_types_to_replace = application_type_value_count[application_type_value_count < cutoff].index\n",
        "\n",
        "# Replace in dataframe\n",
        "for app in application_types_to_replace:\n",
        "    application_df['APPLICATION_TYPE'] = application_df['APPLICATION_TYPE'].replace(app,\"Other\")\n",
        "\n",
        "# Check to make sure binning was successful\n",
        "application_df['APPLICATION_TYPE'].value_counts()"
      ]
    },
    {
      "cell_type": "code",
      "execution_count": 26,
      "metadata": {
        "colab": {
          "base_uri": "https://localhost:8080/"
        },
        "id": "mBQ7GBVPLasF",
        "outputId": "463c5f8d-f79d-42b8-88df-183c0340e0e8"
      },
      "outputs": [
        {
          "data": {
            "text/plain": [
              "C1000    17326\n",
              "C2000     6074\n",
              "C1200     4837\n",
              "C3000     1918\n",
              "C2100     1883\n",
              "         ...  \n",
              "C1570        1\n",
              "C8210        1\n",
              "C1236        1\n",
              "C2190        1\n",
              "C2150        1\n",
              "Name: CLASSIFICATION, Length: 71, dtype: int64"
            ]
          },
          "execution_count": 26,
          "metadata": {},
          "output_type": "execute_result"
        }
      ],
      "source": [
        "# Look at CLASSIFICATION value counts for binning\n",
        "class_count = application_df['CLASSIFICATION'].value_counts()\n",
        "class_count"
      ]
    },
    {
      "cell_type": "code",
      "execution_count": 27,
      "metadata": {
        "colab": {
          "base_uri": "https://localhost:8080/"
        },
        "id": "xW8Jl11s9W3b",
        "outputId": "2e8bbfdb-47f4-4570-8908-e95f4e28f32b"
      },
      "outputs": [
        {
          "data": {
            "text/plain": [
              "C1000    17326\n",
              "C2000     6074\n",
              "C1200     4837\n",
              "C3000     1918\n",
              "C2100     1883\n",
              "C7000      777\n",
              "C1700      287\n",
              "C4000      194\n",
              "C5000      116\n",
              "C1270      114\n",
              "C2700      104\n",
              "C2800       95\n",
              "C7100       75\n",
              "C1300       58\n",
              "C1280       50\n",
              "C1230       36\n",
              "C1400       34\n",
              "C2300       32\n",
              "C7200       32\n",
              "C1240       30\n",
              "C8000       20\n",
              "C7120       18\n",
              "C1500       16\n",
              "C1800       15\n",
              "C6000       15\n",
              "C1250       14\n",
              "C8200       11\n",
              "C1238       10\n",
              "C1278       10\n",
              "C1235        9\n",
              "C1237        9\n",
              "C7210        7\n",
              "C1720        6\n",
              "C4100        6\n",
              "C2400        6\n",
              "C1257        5\n",
              "C1600        5\n",
              "C2710        3\n",
              "C0           3\n",
              "C1260        3\n",
              "C3200        2\n",
              "C1267        2\n",
              "C1246        2\n",
              "C1234        2\n",
              "C1256        2\n",
              "Name: CLASSIFICATION, dtype: int64"
            ]
          },
          "execution_count": 27,
          "metadata": {},
          "output_type": "execute_result"
        }
      ],
      "source": [
        "# You may find it helpful to look at CLASSIFICATION value counts >1\n",
        "count_greater_than_one = class_count[class_count > 1]\n",
        "count_greater_than_one"
      ]
    },
    {
      "cell_type": "code",
      "execution_count": 28,
      "metadata": {
        "colab": {
          "base_uri": "https://localhost:8080/"
        },
        "id": "V8kO87WlNDN4",
        "outputId": "63b64e5a-a48b-4a91-df86-a85e185931de"
      },
      "outputs": [
        {
          "data": {
            "text/plain": [
              "C1000    17326\n",
              "C2000     6074\n",
              "C1200     4837\n",
              "Other     2261\n",
              "C3000     1918\n",
              "C2100     1883\n",
              "Name: CLASSIFICATION, dtype: int64"
            ]
          },
          "execution_count": 28,
          "metadata": {},
          "output_type": "execute_result"
        }
      ],
      "source": [
        "# Choose a cutoff value and create a list of classifications to be replaced\n",
        "# use the variable name `classifications_to_replace`\n",
        "cutoff = class_count['C2100']\n",
        "classifications_to_replace = class_count[class_count < cutoff].index\n",
        "\n",
        "# Replace in dataframe\n",
        "for cls in classifications_to_replace:\n",
        "    application_df['CLASSIFICATION'] = application_df['CLASSIFICATION'].replace(cls,\"Other\")\n",
        "    \n",
        "# Check to make sure binning was successful\n",
        "application_df['CLASSIFICATION'].value_counts()\n"
      ]
    },
    {
      "cell_type": "code",
      "execution_count": 29,
      "metadata": {
        "id": "bg0-3OAN3hAS"
      },
      "outputs": [],
      "source": [
        "# Convert categorical data to numeric with `pd.get_dummies`\n",
        "dummies_df = pd.get_dummies(application_df)\n"
      ]
    },
    {
      "cell_type": "code",
      "execution_count": 30,
      "metadata": {
        "id": "FkB77ufHD3GE"
      },
      "outputs": [],
      "source": [
        "# Split our preprocessed data into our features and target arrays\n",
        "y = dummies_df['IS_SUCCESSFUL']\n",
        "X = dummies_df.drop(['IS_SUCCESSFUL'], axis=1)\n",
        "\n",
        "# Split the preprocessed data into a training and testing dataset\n",
        "X_train, X_test, y_train, y_test = train_test_split(X, y, random_state=78) "
      ]
    },
    {
      "cell_type": "code",
      "execution_count": 31,
      "metadata": {
        "id": "Jj0ghq5p9W3e"
      },
      "outputs": [],
      "source": [
        "# Create a StandardScaler instances\n",
        "scaler = StandardScaler()\n",
        "\n",
        "# Fit the StandardScaler\n",
        "X_scaler = scaler.fit(X_train)\n",
        "\n",
        "# Scale the data\n",
        "X_train_scaled = X_scaler.transform(X_train)\n",
        "X_test_scaled = X_scaler.transform(X_test)"
      ]
    },
    {
      "cell_type": "code",
      "execution_count": 32,
      "metadata": {
        "colab": {
          "base_uri": "https://localhost:8080/"
        },
        "id": "LtkSsBeb2U3d",
        "outputId": "1f192d8a-ccf8-473f-eb47-0dc8b6b53eb7"
      },
      "outputs": [],
      "source": [
        "# Define the model - deep neural net, i.e., the number of input features and hidden nodes for each layer.\n",
        "input_ft = len(X_train_scaled[0])\n",
        "first_hidden_nodes = 6\n",
        "second_hidden_nodes = 2\n"
      ]
    },
    {
      "cell_type": "markdown",
      "metadata": {
        "id": "SNVzcA0R9W3f"
      },
      "source": [
        "## Compile, Train and Evaluate the Model"
      ]
    },
    {
      "cell_type": "code",
      "execution_count": 33,
      "metadata": {
        "colab": {
          "base_uri": "https://localhost:8080/"
        },
        "id": "sz4491jQ9W3f",
        "outputId": "120c9a59-a0da-41db-bca8-5d6f552c6b6d"
      },
      "outputs": [
        {
          "name": "stdout",
          "output_type": "stream",
          "text": [
            "Model: \"sequential_2\"\n",
            "_________________________________________________________________\n",
            " Layer (type)                Output Shape              Param #   \n",
            "=================================================================\n",
            " dense_6 (Dense)             (None, 6)                 117678    \n",
            "                                                                 \n",
            " dense_7 (Dense)             (None, 2)                 14        \n",
            "                                                                 \n",
            " dense_8 (Dense)             (None, 1)                 3         \n",
            "                                                                 \n",
            "=================================================================\n",
            "Total params: 117,695\n",
            "Trainable params: 117,695\n",
            "Non-trainable params: 0\n",
            "_________________________________________________________________\n"
          ]
        }
      ],
      "source": [
        "nn = tf.keras.models.Sequential()\n",
        "\n",
        "# First hidden layer\n",
        "nn.add(tf.keras.layers.Dense(units= first_hidden_nodes, activation=\"relu\", input_dim=input_ft))\n",
        "\n",
        "# Second hidden layer\n",
        "nn.add(tf.keras.layers.Dense(units=second_hidden_nodes, activation=\"relu\", input_dim=input_ft))\n",
        "\n",
        "# Output layer\n",
        "nn.add(tf.keras.layers.Dense(units=1, activation=\"sigmoid\"))\n",
        "\n",
        "# Check the structure of the model\n",
        "nn.summary()"
      ]
    },
    {
      "cell_type": "code",
      "execution_count": 34,
      "metadata": {
        "id": "6_jzt8-n9W3g"
      },
      "outputs": [],
      "source": [
        "# Compile the model\n",
        "nn.compile(loss=\"binary_crossentropy\", optimizer=\"adam\", metrics=[\"accuracy\"])"
      ]
    },
    {
      "cell_type": "code",
      "execution_count": 35,
      "metadata": {
        "colab": {
          "base_uri": "https://localhost:8080/"
        },
        "id": "bJMeCWhu9W3g",
        "outputId": "ce03f201-8b60-4fea-f2ab-2ed1723298c5"
      },
      "outputs": [
        {
          "name": "stdout",
          "output_type": "stream",
          "text": [
            "Epoch 1/100\n",
            "804/804 [==============================] - 35s 6ms/step - loss: 0.7294 - accuracy: 0.5381\n",
            "Epoch 2/100\n",
            "804/804 [==============================] - 4s 5ms/step - loss: 0.5161 - accuracy: 0.7762\n",
            "Epoch 3/100\n",
            "804/804 [==============================] - 4s 5ms/step - loss: 0.3513 - accuracy: 0.8713\n",
            "Epoch 4/100\n",
            "804/804 [==============================] - 4s 5ms/step - loss: 0.2629 - accuracy: 0.9124\n",
            "Epoch 5/100\n",
            "804/804 [==============================] - 4s 5ms/step - loss: 0.2232 - accuracy: 0.9231\n",
            "Epoch 6/100\n",
            "804/804 [==============================] - 4s 5ms/step - loss: 0.2040 - accuracy: 0.9282\n",
            "Epoch 7/100\n",
            "804/804 [==============================] - 5s 6ms/step - loss: 0.1916 - accuracy: 0.9314\n",
            "Epoch 8/100\n",
            "804/804 [==============================] - 4s 5ms/step - loss: 0.1763 - accuracy: 0.9326\n",
            "Epoch 9/100\n",
            "804/804 [==============================] - 4s 5ms/step - loss: 0.1549 - accuracy: 0.9467\n",
            "Epoch 10/100\n",
            "804/804 [==============================] - 4s 5ms/step - loss: 0.1377 - accuracy: 0.9520\n",
            "Epoch 11/100\n",
            "804/804 [==============================] - 4s 5ms/step - loss: 0.1315 - accuracy: 0.9531\n",
            "Epoch 12/100\n",
            "804/804 [==============================] - 4s 5ms/step - loss: 0.1290 - accuracy: 0.9530\n",
            "Epoch 13/100\n",
            "804/804 [==============================] - 5s 6ms/step - loss: 0.1270 - accuracy: 0.9537\n",
            "Epoch 14/100\n",
            "804/804 [==============================] - 5s 6ms/step - loss: 0.1258 - accuracy: 0.9539\n",
            "Epoch 15/100\n",
            "804/804 [==============================] - 5s 6ms/step - loss: 0.1250 - accuracy: 0.9535\n",
            "Epoch 16/100\n",
            "804/804 [==============================] - 4s 5ms/step - loss: 0.1238 - accuracy: 0.9539\n",
            "Epoch 17/100\n",
            "804/804 [==============================] - 4s 6ms/step - loss: 0.1232 - accuracy: 0.9538\n",
            "Epoch 18/100\n",
            "804/804 [==============================] - 4s 5ms/step - loss: 0.1230 - accuracy: 0.9535\n",
            "Epoch 19/100\n",
            "804/804 [==============================] - 4s 5ms/step - loss: 0.1224 - accuracy: 0.9542\n",
            "Epoch 20/100\n",
            "804/804 [==============================] - 4s 5ms/step - loss: 0.1214 - accuracy: 0.9548\n",
            "Epoch 21/100\n",
            "804/804 [==============================] - 4s 5ms/step - loss: 0.1205 - accuracy: 0.9541\n",
            "Epoch 22/100\n",
            "804/804 [==============================] - 4s 5ms/step - loss: 0.1201 - accuracy: 0.9542\n",
            "Epoch 23/100\n",
            "804/804 [==============================] - 4s 5ms/step - loss: 0.1196 - accuracy: 0.9544\n",
            "Epoch 24/100\n",
            "804/804 [==============================] - 4s 5ms/step - loss: 0.1193 - accuracy: 0.9547\n",
            "Epoch 25/100\n",
            "804/804 [==============================] - 4s 5ms/step - loss: 0.1187 - accuracy: 0.9543\n",
            "Epoch 26/100\n",
            "804/804 [==============================] - 4s 5ms/step - loss: 0.1185 - accuracy: 0.9548\n",
            "Epoch 27/100\n",
            "804/804 [==============================] - 4s 5ms/step - loss: 0.1181 - accuracy: 0.9551\n",
            "Epoch 28/100\n",
            "804/804 [==============================] - 4s 5ms/step - loss: 0.1183 - accuracy: 0.9552\n",
            "Epoch 29/100\n",
            "804/804 [==============================] - 4s 5ms/step - loss: 0.1182 - accuracy: 0.9555\n",
            "Epoch 30/100\n",
            "804/804 [==============================] - 4s 5ms/step - loss: 0.1179 - accuracy: 0.9553\n",
            "Epoch 31/100\n",
            "804/804 [==============================] - 4s 5ms/step - loss: 0.1178 - accuracy: 0.9557\n",
            "Epoch 32/100\n",
            "804/804 [==============================] - 4s 5ms/step - loss: 0.1174 - accuracy: 0.9557\n",
            "Epoch 33/100\n",
            "804/804 [==============================] - 4s 5ms/step - loss: 0.1170 - accuracy: 0.9553\n",
            "Epoch 34/100\n",
            "804/804 [==============================] - 4s 5ms/step - loss: 0.1165 - accuracy: 0.9559\n",
            "Epoch 35/100\n",
            "804/804 [==============================] - 4s 5ms/step - loss: 0.1162 - accuracy: 0.9558\n",
            "Epoch 36/100\n",
            "804/804 [==============================] - 4s 5ms/step - loss: 0.1162 - accuracy: 0.9560\n",
            "Epoch 37/100\n",
            "804/804 [==============================] - 4s 5ms/step - loss: 0.1159 - accuracy: 0.9559\n",
            "Epoch 38/100\n",
            "804/804 [==============================] - 4s 5ms/step - loss: 0.1157 - accuracy: 0.9554\n",
            "Epoch 39/100\n",
            "804/804 [==============================] - 4s 5ms/step - loss: 0.1166 - accuracy: 0.9558\n",
            "Epoch 40/100\n",
            "804/804 [==============================] - 4s 5ms/step - loss: 0.1174 - accuracy: 0.9538\n",
            "Epoch 41/100\n",
            "804/804 [==============================] - 4s 5ms/step - loss: 0.1150 - accuracy: 0.9563\n",
            "Epoch 42/100\n",
            "804/804 [==============================] - 4s 5ms/step - loss: 0.1125 - accuracy: 0.9597\n",
            "Epoch 43/100\n",
            "804/804 [==============================] - 4s 5ms/step - loss: 0.1100 - accuracy: 0.9605\n",
            "Epoch 44/100\n",
            "804/804 [==============================] - 4s 5ms/step - loss: 0.1098 - accuracy: 0.9599\n",
            "Epoch 45/100\n",
            "804/804 [==============================] - 4s 5ms/step - loss: 0.1092 - accuracy: 0.9599\n",
            "Epoch 46/100\n",
            "804/804 [==============================] - 4s 5ms/step - loss: 0.1113 - accuracy: 0.9592\n",
            "Epoch 47/100\n",
            "804/804 [==============================] - 4s 5ms/step - loss: 0.1197 - accuracy: 0.9541\n",
            "Epoch 48/100\n",
            "804/804 [==============================] - 4s 5ms/step - loss: 0.1146 - accuracy: 0.9587\n",
            "Epoch 49/100\n",
            "804/804 [==============================] - 4s 5ms/step - loss: 0.1098 - accuracy: 0.9609\n",
            "Epoch 50/100\n",
            "804/804 [==============================] - 4s 5ms/step - loss: 0.1076 - accuracy: 0.9614\n",
            "Epoch 51/100\n",
            "804/804 [==============================] - 4s 5ms/step - loss: 0.1065 - accuracy: 0.9618\n",
            "Epoch 52/100\n",
            "804/804 [==============================] - 4s 5ms/step - loss: 0.1064 - accuracy: 0.9616\n",
            "Epoch 53/100\n",
            "804/804 [==============================] - 4s 6ms/step - loss: 0.1063 - accuracy: 0.9620\n",
            "Epoch 54/100\n",
            "804/804 [==============================] - 4s 5ms/step - loss: 0.1059 - accuracy: 0.9624\n",
            "Epoch 55/100\n",
            "804/804 [==============================] - 4s 5ms/step - loss: 0.1060 - accuracy: 0.9621\n",
            "Epoch 56/100\n",
            "804/804 [==============================] - 4s 5ms/step - loss: 0.1056 - accuracy: 0.9620\n",
            "Epoch 57/100\n",
            "804/804 [==============================] - 4s 5ms/step - loss: 0.1058 - accuracy: 0.9617\n",
            "Epoch 58/100\n",
            "804/804 [==============================] - 4s 5ms/step - loss: 0.1054 - accuracy: 0.9619\n",
            "Epoch 59/100\n",
            "804/804 [==============================] - 4s 5ms/step - loss: 0.1056 - accuracy: 0.9620\n",
            "Epoch 60/100\n",
            "804/804 [==============================] - 4s 5ms/step - loss: 0.1052 - accuracy: 0.9623\n",
            "Epoch 61/100\n",
            "804/804 [==============================] - 4s 5ms/step - loss: 0.1051 - accuracy: 0.9621\n",
            "Epoch 62/100\n",
            "804/804 [==============================] - 4s 5ms/step - loss: 0.1051 - accuracy: 0.9623\n",
            "Epoch 63/100\n",
            "804/804 [==============================] - 4s 5ms/step - loss: 0.1050 - accuracy: 0.9623\n",
            "Epoch 64/100\n",
            "804/804 [==============================] - 4s 5ms/step - loss: 0.1049 - accuracy: 0.9624\n",
            "Epoch 65/100\n",
            "804/804 [==============================] - 4s 5ms/step - loss: 0.1050 - accuracy: 0.9618\n",
            "Epoch 66/100\n",
            "804/804 [==============================] - 4s 5ms/step - loss: 0.1047 - accuracy: 0.9626\n",
            "Epoch 67/100\n",
            "804/804 [==============================] - 4s 5ms/step - loss: 0.1063 - accuracy: 0.9615\n",
            "Epoch 68/100\n",
            "804/804 [==============================] - 4s 5ms/step - loss: 0.1064 - accuracy: 0.9617\n",
            "Epoch 69/100\n",
            "804/804 [==============================] - 4s 5ms/step - loss: 0.1053 - accuracy: 0.9624\n",
            "Epoch 70/100\n",
            "804/804 [==============================] - 4s 5ms/step - loss: 0.1046 - accuracy: 0.9624\n",
            "Epoch 71/100\n",
            "804/804 [==============================] - 4s 5ms/step - loss: 0.1039 - accuracy: 0.9627\n",
            "Epoch 72/100\n",
            "804/804 [==============================] - 4s 5ms/step - loss: 0.1047 - accuracy: 0.9627\n",
            "Epoch 73/100\n",
            "804/804 [==============================] - 4s 5ms/step - loss: 0.1046 - accuracy: 0.9628\n",
            "Epoch 74/100\n",
            "804/804 [==============================] - 4s 5ms/step - loss: 0.1038 - accuracy: 0.9630\n",
            "Epoch 75/100\n",
            "804/804 [==============================] - 4s 5ms/step - loss: 0.1029 - accuracy: 0.9634\n",
            "Epoch 76/100\n",
            "804/804 [==============================] - 4s 5ms/step - loss: 0.1028 - accuracy: 0.9637\n",
            "Epoch 77/100\n",
            "804/804 [==============================] - 4s 5ms/step - loss: 0.1026 - accuracy: 0.9633\n",
            "Epoch 78/100\n",
            "804/804 [==============================] - 4s 5ms/step - loss: 0.1018 - accuracy: 0.9642\n",
            "Epoch 79/100\n",
            "804/804 [==============================] - 4s 5ms/step - loss: 0.1021 - accuracy: 0.9640\n",
            "Epoch 80/100\n",
            "804/804 [==============================] - 4s 5ms/step - loss: 0.1022 - accuracy: 0.9636\n",
            "Epoch 81/100\n",
            "804/804 [==============================] - 4s 5ms/step - loss: 0.1018 - accuracy: 0.9639\n",
            "Epoch 82/100\n",
            "804/804 [==============================] - 4s 6ms/step - loss: 0.1021 - accuracy: 0.9638\n",
            "Epoch 83/100\n",
            "804/804 [==============================] - 4s 5ms/step - loss: 0.1016 - accuracy: 0.9636\n",
            "Epoch 84/100\n",
            "804/804 [==============================] - 5s 6ms/step - loss: 0.1017 - accuracy: 0.9640\n",
            "Epoch 85/100\n",
            "804/804 [==============================] - 5s 6ms/step - loss: 0.1019 - accuracy: 0.9635\n",
            "Epoch 86/100\n",
            "804/804 [==============================] - 5s 6ms/step - loss: 0.1014 - accuracy: 0.9637\n",
            "Epoch 87/100\n",
            "804/804 [==============================] - 5s 6ms/step - loss: 0.1014 - accuracy: 0.9641\n",
            "Epoch 88/100\n",
            "804/804 [==============================] - 5s 6ms/step - loss: 0.1010 - accuracy: 0.9640\n",
            "Epoch 89/100\n",
            "804/804 [==============================] - 5s 6ms/step - loss: 0.1009 - accuracy: 0.9640\n",
            "Epoch 90/100\n",
            "804/804 [==============================] - 5s 6ms/step - loss: 0.1010 - accuracy: 0.9642\n",
            "Epoch 91/100\n",
            "804/804 [==============================] - 4s 6ms/step - loss: 0.1011 - accuracy: 0.9644\n",
            "Epoch 92/100\n",
            "804/804 [==============================] - 4s 5ms/step - loss: 0.1013 - accuracy: 0.9638\n",
            "Epoch 93/100\n",
            "804/804 [==============================] - 4s 5ms/step - loss: 0.1011 - accuracy: 0.9642\n",
            "Epoch 94/100\n",
            "804/804 [==============================] - 4s 5ms/step - loss: 0.1008 - accuracy: 0.9642\n",
            "Epoch 95/100\n",
            "804/804 [==============================] - 5s 6ms/step - loss: 0.1008 - accuracy: 0.9634\n",
            "Epoch 96/100\n",
            "804/804 [==============================] - 5s 6ms/step - loss: 0.1008 - accuracy: 0.9645\n",
            "Epoch 97/100\n",
            "804/804 [==============================] - 5s 6ms/step - loss: 0.1009 - accuracy: 0.9639\n",
            "Epoch 98/100\n",
            "804/804 [==============================] - 5s 6ms/step - loss: 0.1008 - accuracy: 0.9640\n",
            "Epoch 99/100\n",
            "804/804 [==============================] - 5s 7ms/step - loss: 0.1008 - accuracy: 0.9644\n",
            "Epoch 100/100\n",
            "804/804 [==============================] - 5s 6ms/step - loss: 0.1013 - accuracy: 0.9641\n"
          ]
        }
      ],
      "source": [
        "# Train the model\n",
        "fit_model = nn.fit(X_train_scaled, y_train, epochs=100)"
      ]
    },
    {
      "cell_type": "code",
      "execution_count": 36,
      "metadata": {
        "colab": {
          "base_uri": "https://localhost:8080/"
        },
        "id": "d4rVhsel9W3h",
        "outputId": "3cb320da-d515-4e56-b242-6eefadcf97ac"
      },
      "outputs": [
        {
          "name": "stdout",
          "output_type": "stream",
          "text": [
            "268/268 - 1s - loss: 0.5818 - accuracy: 0.6528 - 953ms/epoch - 4ms/step\n",
            "Loss: 0.5818427801132202, Accuracy: 0.6528279781341553\n"
          ]
        }
      ],
      "source": [
        "# Evaluate the model using the test data\n",
        "model_loss, model_accuracy = nn.evaluate(X_test_scaled,y_test,verbose=2)\n",
        "print(f\"Loss: {model_loss}, Accuracy: {model_accuracy}\")"
      ]
    },
    {
      "cell_type": "code",
      "execution_count": 37,
      "metadata": {
        "id": "R1SNxsH19W3i"
      },
      "outputs": [],
      "source": [
        "# Export our model to HDF5 file\n",
        "nn.save('AlphabetSoupCharity.h5')"
      ]
    },
    {
      "cell_type": "markdown",
      "metadata": {
        "id": "8LYtX142p5dJ"
      },
      "source": []
    }
  ],
  "metadata": {
    "colab": {
      "provenance": []
    },
    "kernelspec": {
      "display_name": "Python 3",
      "language": "python",
      "name": "python3"
    },
    "language_info": {
      "codemirror_mode": {
        "name": "ipython",
        "version": 3
      },
      "file_extension": ".py",
      "mimetype": "text/x-python",
      "name": "python",
      "nbconvert_exporter": "python",
      "pygments_lexer": "ipython3",
      "version": "3.7.7"
    },
    "vscode": {
      "interpreter": {
        "hash": "31f2aee4e71d21fbe5cf8b01ff0e069b9275f58929596ceb00d14d90e3e16cd6"
      }
    }
  },
  "nbformat": 4,
  "nbformat_minor": 0
}
